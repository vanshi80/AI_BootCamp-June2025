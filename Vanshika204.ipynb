{
  "nbformat": 4,
  "nbformat_minor": 0,
  "metadata": {
    "colab": {
      "provenance": []
    },
    "kernelspec": {
      "name": "python3",
      "display_name": "Python 3"
    },
    "language_info": {
      "name": "python"
    }
  },
  "cells": [
    {
      "cell_type": "code",
      "execution_count": null,
      "metadata": {
        "colab": {
          "base_uri": "https://localhost:8080/"
        },
        "id": "x4b1LMLJcn8u",
        "outputId": "a61eabd7-b8da-4dd9-f44a-7c4512f24829"
      },
      "outputs": [
        {
          "output_type": "stream",
          "name": "stdout",
          "text": [
            "Hello world\n",
            "10\n",
            "Fail\n"
          ]
        }
      ],
      "source": [
        "print(\"Hello world\")\n",
        "a = 10\n",
        "print(a)\n",
        "if a > 11 :\n",
        "  print(\"done\")\n",
        "else:\n",
        "  print(\"Fail\")"
      ]
    }
  ]
}