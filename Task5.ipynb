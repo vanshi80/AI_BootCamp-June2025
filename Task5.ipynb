{
  "nbformat": 4,
  "nbformat_minor": 0,
  "metadata": {
    "colab": {
      "provenance": []
    },
    "kernelspec": {
      "name": "python3",
      "display_name": "Python 3"
    },
    "language_info": {
      "name": "python"
    }
  },
  "cells": [
    {
      "cell_type": "code",
      "execution_count": 1,
      "metadata": {
        "colab": {
          "base_uri": "https://localhost:8080/"
        },
        "id": "_2Racfi7G7Hw",
        "outputId": "b439faf0-7616-4aae-a13f-f8b9e13373c8"
      },
      "outputs": [
        {
          "output_type": "stream",
          "name": "stdout",
          "text": [
            "Logistic Regression MSE: 0.0\n",
            "Linear Regression MSE: 0.06853348464256047\n"
          ]
        }
      ],
      "source": [
        "import pandas as pd\n",
        "import numpy as np\n",
        "from sklearn.model_selection import train_test_split\n",
        "from sklearn.linear_model import LogisticRegression, LinearRegression\n",
        "from sklearn.metrics import mean_squared_error\n",
        "\n",
        "from sklearn.datasets import load_wine\n",
        "wine = load_wine()\n",
        "X = pd.DataFrame(wine.data, columns=wine.feature_names)\n",
        "y = wine.target\n",
        "\n",
        "X_train, X_test, y_train, y_test = train_test_split(X, y, test_size=0.2, random_state=42)\n",
        "log_model = LogisticRegression(max_iter=10000)\n",
        "log_model.fit(X_train, y_train)\n",
        "y_pred_log = log_model.predict(X_test)\n",
        "\n",
        "# Logistic regression doesn't use MSE typically, but for this task:\n",
        "log_mse = mean_squared_error(y_test, y_pred_log)\n",
        "print(\"Logistic Regression MSE:\", log_mse)\n",
        "lin_model = LinearRegression()\n",
        "lin_model.fit(X_train, y_train)\n",
        "y_pred_lin = lin_model.predict(X_test)\n",
        "\n",
        "# Calculate Mean Squared Error\n",
        "lin_mse = mean_squared_error(y_test, y_pred_lin)\n",
        "print(\"Linear Regression MSE:\", lin_mse)\n"
      ]
    }
  ]
}