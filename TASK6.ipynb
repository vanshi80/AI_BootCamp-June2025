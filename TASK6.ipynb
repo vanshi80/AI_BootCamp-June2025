{
  "nbformat": 4,
  "nbformat_minor": 0,
  "metadata": {
    "colab": {
      "provenance": []
    },
    "kernelspec": {
      "name": "python3",
      "display_name": "Python 3"
    },
    "language_info": {
      "name": "python"
    }
  },
  "cells": [
    {
      "cell_type": "code",
      "execution_count": 1,
      "metadata": {
        "colab": {
          "base_uri": "https://localhost:8080/"
        },
        "id": "yfewOx_dHa9f",
        "outputId": "b2d6427e-e24e-4e38-d2de-14e60bb71509"
      },
      "outputs": [
        {
          "output_type": "stream",
          "name": "stdout",
          "text": [
            "Downloading data from https://storage.googleapis.com/tensorflow/tf-keras-datasets/mnist.npz\n",
            "\u001b[1m11490434/11490434\u001b[0m \u001b[32m━━━━━━━━━━━━━━━━━━━━\u001b[0m\u001b[37m\u001b[0m \u001b[1m1s\u001b[0m 0us/step\n"
          ]
        },
        {
          "output_type": "stream",
          "name": "stderr",
          "text": [
            "/usr/local/lib/python3.11/dist-packages/keras/src/layers/reshaping/flatten.py:37: UserWarning: Do not pass an `input_shape`/`input_dim` argument to a layer. When using Sequential models, prefer using an `Input(shape)` object as the first layer in the model instead.\n",
            "  super().__init__(**kwargs)\n"
          ]
        },
        {
          "output_type": "stream",
          "name": "stdout",
          "text": [
            "Epoch 1/5\n",
            "1875/1875 - 15s - 8ms/step - accuracy: 0.9413 - loss: 0.1956\n",
            "Epoch 2/5\n",
            "1875/1875 - 9s - 5ms/step - accuracy: 0.9742 - loss: 0.0829\n",
            "Epoch 3/5\n",
            "1875/1875 - 11s - 6ms/step - accuracy: 0.9822 - loss: 0.0558\n",
            "Epoch 4/5\n",
            "1875/1875 - 10s - 5ms/step - accuracy: 0.9871 - loss: 0.0407\n",
            "Epoch 5/5\n",
            "1875/1875 - 10s - 5ms/step - accuracy: 0.9899 - loss: 0.0317\n",
            "\u001b[1m313/313\u001b[0m \u001b[32m━━━━━━━━━━━━━━━━━━━━\u001b[0m\u001b[37m\u001b[0m \u001b[1m1s\u001b[0m 2ms/step\n",
            "              precision    recall  f1-score   support\n",
            "\n",
            "           0       0.99      0.99      0.99       980\n",
            "           1       0.99      0.99      0.99      1135\n",
            "           2       0.98      0.97      0.98      1032\n",
            "           3       0.91      0.99      0.95      1010\n",
            "           4       0.97      0.98      0.98       982\n",
            "           5       0.99      0.94      0.96       892\n",
            "           6       0.99      0.98      0.98       958\n",
            "           7       0.97      0.98      0.97      1028\n",
            "           8       0.97      0.96      0.97       974\n",
            "           9       0.98      0.95      0.97      1009\n",
            "\n",
            "    accuracy                           0.97     10000\n",
            "   macro avg       0.97      0.97      0.97     10000\n",
            "weighted avg       0.97      0.97      0.97     10000\n",
            "\n"
          ]
        }
      ],
      "source": [
        "import tensorflow as tf\n",
        "from tensorflow.keras.models import Sequential\n",
        "from tensorflow.keras.layers import Flatten, Dense\n",
        "from sklearn.metrics import classification_report\n",
        "import numpy as np\n",
        "\n",
        "# Step 1: Load MNIST dataset\n",
        "(x_train, y_train), (x_test, y_test) = tf.keras.datasets.mnist.load_data()\n",
        "\n",
        "# Step 2: Normalize data\n",
        "x_train, x_test = x_train / 255.0, x_test / 255.0\n",
        "\n",
        "# Step 3: Build the model\n",
        "model = Sequential([\n",
        "    Flatten(input_shape=(28, 28)),         # Input Layer: Flatten\n",
        "    Dense(400, activation='relu'),         # Hidden Layer 1\n",
        "    Dense(128, activation='relu'),         # Hidden Layer 2\n",
        "    Dense(10, activation='softmax')        # Output Layer\n",
        "])\n",
        "\n",
        "# Step 4: Compile the model\n",
        "model.compile(optimizer='adam',\n",
        "              loss='sparse_categorical_crossentropy',\n",
        "              metrics=['accuracy'])\n",
        "\n",
        "# Step 5: Train the model\n",
        "model.fit(x_train, y_train, epochs=5, batch_size=32, verbose=2)\n",
        "\n",
        "# Step 6: Make predictions\n",
        "y_pred_probs = model.predict(x_test)\n",
        "y_pred = np.argmax(y_pred_probs, axis=1)\n",
        "\n",
        "# Step 7: Classification report\n",
        "from sklearn.metrics import classification_report\n",
        "print(classification_report(y_test, y_pred))\n"
      ]
    }
  ]
}